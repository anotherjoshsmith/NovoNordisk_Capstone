{
 "cells": [
  {
   "cell_type": "code",
   "execution_count": 10,
   "metadata": {},
   "outputs": [],
   "source": [
    "import numpy as np\n",
    "import pandas as pd\n",
    "import matplotlib.pyplot as plt\n",
    "%matplotlib inline\n",
    "\n",
    "from keras import backend as K\n",
    "from ndac.data_processing import quantile_classify, encode_sequence, value_classify\n",
    "from ndac.predict import train_clstm\n",
    "from sklearn.model_selection import train_test_split"
   ]
  },
  {
   "cell_type": "code",
   "execution_count": 11,
   "metadata": {},
   "outputs": [],
   "source": [
    "# read in sequence/property data\n",
    "data = pd.read_csv('dataframes/DF_prest.csv', index_col=0)"
   ]
  },
  {
   "cell_type": "markdown",
   "metadata": {},
   "source": [
    "# train with amino acid sequence"
   ]
  },
  {
   "cell_type": "code",
   "execution_count": 12,
   "metadata": {},
   "outputs": [
    {
     "name": "stdout",
     "output_type": "stream",
     "text": [
      "45206 samples input.\n",
      "11302 samples in class 0\n",
      "11301 samples in class 1\n",
      "22603 samples removed.\n"
     ]
    },
    {
     "data": {
      "image/png": "[encoded data removed]",
      "text/plain": [
       "<Figure size 432x288 with 1 Axes>"
      ]
     },
     "metadata": {},
     "output_type": "display_data"
    }
   ],
   "source": [
    "df, hist = quantile_classify(data['conc_cf'], data['aa_seq'],\n",
    "                             [0.25, 0.75], drop_class=[1])\n",
    "X, y = encode_sequence(df['aa_seq'], df['class'],\n",
    "                       max_length=200)"
   ]
  },
  {
   "cell_type": "code",
   "execution_count": 13,
   "metadata": {
    "collapsed": true
   },
   "outputs": [
    {
     "name": "stdout",
     "output_type": "stream",
     "text": [
      "WARNING:tensorflow:From /Users/joshsmith/Git/NovoNordisk_Capstone/.env/lib/python3.6/site-packages/tensorflow/python/util/deprecation.py:497: calling conv1d (from tensorflow.python.ops.nn_ops) with data_format=NHWC is deprecated and will be removed in a future version.\n",
      "Instructions for updating:\n",
      "`NHWC` for data_format is deprecated, use `NWC` instead\n",
      "_________________________________________________________________\n",
      "Layer (type)                 Output Shape              Param #   \n",
      "=================================================================\n",
      "embedding_1 (Embedding)      (None, 200, 10)           210       \n",
      "_________________________________________________________________\n",
      "conv1d_1 (Conv1D)            (None, 200, 128)          3968      \n",
      "_________________________________________________________________\n",
      "max_pooling1d_1 (MaxPooling1 (None, 100, 128)          0         \n",
      "_________________________________________________________________\n",
      "lstm_1 (LSTM)                (None, 100)               91600     \n",
      "_________________________________________________________________\n",
      "dense_1 (Dense)              (None, 1)                 101       \n",
      "=================================================================\n",
      "Total params: 95,879\n",
      "Trainable params: 95,879\n",
      "Non-trainable params: 0\n",
      "_________________________________________________________________\n",
      "None\n",
      "Epoch 1/15\n",
      "15822/15822 [==============================] - 29s 2ms/step - loss: 0.6753 - acc: 0.5693\n",
      "Epoch 2/15\n",
      "15822/15822 [==============================] - 29s 2ms/step - loss: 0.6508 - acc: 0.6248\n",
      "Epoch 3/15\n",
      "15822/15822 [==============================] - 28s 2ms/step - loss: 0.6407 - acc: 0.6369\n",
      "Epoch 4/15\n",
      "15822/15822 [==============================] - 29s 2ms/step - loss: 0.6311 - acc: 0.6450\n",
      "Epoch 5/15\n",
      "15822/15822 [==============================] - 29s 2ms/step - loss: 0.6280 - acc: 0.6525\n",
      "Epoch 6/15\n",
      "15822/15822 [==============================] - 29s 2ms/step - loss: 0.6253 - acc: 0.6540\n",
      "Epoch 7/15\n",
      "15822/15822 [==============================] - 29s 2ms/step - loss: 0.6221 - acc: 0.6550\n",
      "Epoch 8/15\n",
      "15822/15822 [==============================] - 29s 2ms/step - loss: 0.6193 - acc: 0.6622\n",
      "Epoch 9/15\n",
      "15822/15822 [==============================] - 29s 2ms/step - loss: 0.6227 - acc: 0.6521\n",
      "Epoch 10/15\n",
      "15822/15822 [==============================] - 29s 2ms/step - loss: 0.6097 - acc: 0.6706\n",
      "Epoch 11/15\n",
      "15822/15822 [==============================] - 29s 2ms/step - loss: 0.6066 - acc: 0.6705\n",
      "Epoch 12/15\n",
      "15822/15822 [==============================] - 29s 2ms/step - loss: 0.6018 - acc: 0.6749\n",
      "Epoch 13/15\n",
      "15822/15822 [==============================] - 28s 2ms/step - loss: 0.5897 - acc: 0.6847\n",
      "Epoch 14/15\n",
      "15822/15822 [==============================] - 28s 2ms/step - loss: 0.5720 - acc: 0.7034\n",
      "Epoch 15/15\n",
      "15822/15822 [==============================] - 28s 2ms/step - loss: 0.5622 - acc: 0.7120\n",
      "Accuracy: 70.89%\n"
     ]
    }
   ],
   "source": [
    "aa_model = train_clstm(X, y, test_fraction=0.3, epochs=15)"
   ]
  },
  {
   "cell_type": "code",
   "execution_count": 15,
   "metadata": {},
   "outputs": [],
   "source": [
    "aa_model.save('visualize_training_model.h5')"
   ]
  },
  {
   "cell_type": "code",
   "execution_count": 17,
   "metadata": {},
   "outputs": [],
   "source": [
    "X = pd.DataFrame(X, index=df.index)\n",
    "y = pd.Series(y, index=df.index)\n",
    "\n",
    "# fix random seed for reproducibility\n",
    "np.random.seed(7)\n",
    "\n",
    "X_train, X_test, y, y_test = train_test_split(X, y, test_size=0.3)\n",
    "\n",
    "y_pred = aa_model.predict(X_test.values).round()\n",
    "\n",
    "new_data = pd.DataFrame(np.zeros((len(y_test), 3)), index=X_test.index,\n",
    "                        columns=['conc_cf', 'y_true', 'y_pred'])\n",
    "new_data['conc_cf'] = df.loc[X_test.index, 'conc_cf'].values\n",
    "new_data['y_true'] = y_test.values\n",
    "new_data['y_pred'] = y_pred\n",
    "new_data['correct'] = np.equal(new_data['y_true'], new_data['y_pred'])"
   ]
  },
  {
   "cell_type": "code",
   "execution_count": 41,
   "metadata": {},
   "outputs": [],
   "source": [
    "x1 = new_data.loc[new_data['correct'] == True, 'conc_cf'].values\n",
    "x2 = new_data.loc[new_data['correct'] == False, 'conc_cf'].values\n",
    "x3 = data.loc[np.isin(data.index, new_data.index, invert=True), 'conc_cf']"
   ]
  },
  {
   "cell_type": "code",
   "execution_count": 54,
   "metadata": {},
   "outputs": [
    {
     "name": "stderr",
     "output_type": "stream",
     "text": [
      "/Users/joshsmith/Git/NovoNordisk_Capstone/.env/lib/python3.6/site-packages/numpy/core/fromnumeric.py:52: FutureWarning: reshape is deprecated and will raise in a subsequent release. Please use .values.reshape(...) instead\n",
      "  return getattr(obj, method)(*args, **kwds)\n"
     ]
    },
    {
     "data": {
      "image/png": "[encoded data removed]",
      "text/plain": [
       "<Figure size 864x576 with 1 Axes>"
      ]
     },
     "metadata": {},
     "output_type": "display_data"
    }
   ],
   "source": [
    "#Stack the data\n",
    "low = data['conc_cf'].quantile(0.25)\n",
    "high = data['conc_cf'].quantile(0.75)\n",
    "pal = ['#59a14f', '#e15759', '#4e79a7']\n",
    "\n",
    "\n",
    "plt.figure(figsize=(12, 8))\n",
    "plt.hist([x1, x2, x3], 100, stacked=True, color=pal)\n",
    "plt.legend(['correct', 'incorrect', 'ommitted'])\n",
    "plt.axvline(low, color='k', linestyle='dashed', linewidth=3)\n",
    "plt.axvline(high, color='r', linestyle='dashed', linewidth=3)\n",
    "plt.show()"
   ]
  },
  {
   "cell_type": "code",
   "execution_count": 48,
   "metadata": {},
   "outputs": [
    {
     "data": {
      "text/plain": [
       "array([5.6524, 2.2203, 7.32  , ..., 6.8834, 1.88  , 2.6073])"
      ]
     },
     "execution_count": 48,
     "metadata": {},
     "output_type": "execute_result"
    }
   ],
   "source": [
    "data.loc[X_test.index, 'conc_cf'].values"
   ]
  },
  {
   "cell_type": "markdown",
   "metadata": {},
   "source": [
    "# expression multiclass"
   ]
  },
  {
   "cell_type": "code",
   "execution_count": 56,
   "metadata": {},
   "outputs": [
    {
     "name": "stdout",
     "output_type": "stream",
     "text": [
      "45206 samples input.\n",
      "11302 samples in class 0\n",
      "22603 samples in class 1\n",
      "11301 samples in class 2\n",
      "0 samples removed.\n"
     ]
    },
    {
     "data": {
      "image/png": "[encoded data removed]",
      "text/plain": [
       "<Figure size 432x288 with 1 Axes>"
      ]
     },
     "metadata": {},
     "output_type": "display_data"
    }
   ],
   "source": [
    "df, hist = quantile_classify(data['conc_cf'], data['aa_seq'],\n",
    "                             [0.25, 0.75])\n",
    "X, y = encode_sequence(df['aa_seq'], df['class'],\n",
    "                       max_length=200)"
   ]
  },
  {
   "cell_type": "code",
   "execution_count": 57,
   "metadata": {},
   "outputs": [
    {
     "name": "stdout",
     "output_type": "stream",
     "text": [
      "_________________________________________________________________\n",
      "Layer (type)                 Output Shape              Param #   \n",
      "=================================================================\n",
      "embedding_2 (Embedding)      (None, 200, 10)           210       \n",
      "_________________________________________________________________\n",
      "conv1d_2 (Conv1D)            (None, 200, 128)          3968      \n",
      "_________________________________________________________________\n",
      "max_pooling1d_2 (MaxPooling1 (None, 100, 128)          0         \n",
      "_________________________________________________________________\n",
      "lstm_2 (LSTM)                (None, 100)               91600     \n",
      "_________________________________________________________________\n",
      "dense_2 (Dense)              (None, 3)                 303       \n",
      "=================================================================\n",
      "Total params: 96,081\n",
      "Trainable params: 96,081\n",
      "Non-trainable params: 0\n",
      "_________________________________________________________________\n",
      "None\n",
      "Epoch 1/15\n",
      "31644/31644 [==============================] - 59s 2ms/step - loss: 1.0347 - acc: 0.5026\n",
      "Epoch 2/15\n",
      "31644/31644 [==============================] - 60s 2ms/step - loss: 1.0186 - acc: 0.5024\n",
      "Epoch 3/15\n",
      "31644/31644 [==============================] - 59s 2ms/step - loss: 0.9936 - acc: 0.5178\n",
      "Epoch 4/15\n",
      "31644/31644 [==============================] - 57s 2ms/step - loss: 0.9769 - acc: 0.5248\n",
      "Epoch 5/15\n",
      "31644/31644 [==============================] - 57s 2ms/step - loss: 0.9662 - acc: 0.5329\n",
      "Epoch 6/15\n",
      "31644/31644 [==============================] - 58s 2ms/step - loss: 0.9619 - acc: 0.5344\n",
      "Epoch 7/15\n",
      "31644/31644 [==============================] - 57s 2ms/step - loss: 0.9556 - acc: 0.5397\n",
      "Epoch 8/15\n",
      "31644/31644 [==============================] - 58s 2ms/step - loss: 0.9518 - acc: 0.5423\n",
      "Epoch 9/15\n",
      "31644/31644 [==============================] - 58s 2ms/step - loss: 0.9491 - acc: 0.5442\n",
      "Epoch 10/15\n",
      "31644/31644 [==============================] - 58s 2ms/step - loss: 0.9469 - acc: 0.5445\n",
      "Epoch 11/15\n",
      "31644/31644 [==============================] - 58s 2ms/step - loss: 0.9442 - acc: 0.5462\n",
      "Epoch 12/15\n",
      "31644/31644 [==============================] - 58s 2ms/step - loss: 0.9393 - acc: 0.5496\n",
      "Epoch 13/15\n",
      "31644/31644 [==============================] - 58s 2ms/step - loss: 0.9350 - acc: 0.5503\n",
      "Epoch 14/15\n",
      "31644/31644 [==============================] - 57s 2ms/step - loss: 0.9318 - acc: 0.5556\n",
      "Epoch 15/15\n",
      "31644/31644 [==============================] - 57s 2ms/step - loss: 0.9278 - acc: 0.5548\n",
      "Accuracy: 54.35%\n"
     ]
    }
   ],
   "source": [
    "aa_model = train_clstm(X, y, test_fraction=0.3, epochs=15)"
   ]
  },
  {
   "cell_type": "code",
   "execution_count": 59,
   "metadata": {},
   "outputs": [],
   "source": [
    "X = pd.DataFrame(X, index=df.index)\n",
    "y = pd.DataFrame(y, index=df.index)\n",
    "\n",
    "# fix random seed for reproducibility\n",
    "np.random.seed(7)\n",
    "\n",
    "X_train, X_test, y, y_test = train_test_split(X, y, test_size=0.3)"
   ]
  },
  {
   "cell_type": "code",
   "execution_count": 68,
   "metadata": {},
   "outputs": [],
   "source": [
    "y_pred = aa_model.predict(X_test.values).round()\n",
    "\n",
    "new_data = pd.DataFrame(np.zeros((len(y_test), 3)), index=X_test.index,\n",
    "                        columns=['conc_cf', 'y_true', 'y_pred'])\n",
    "new_data['conc_cf'] = df.loc[X_test.index, 'conc_cf'].values\n",
    "\n",
    "new_data['y_true'] = np.argmax(y_test.values, axis=1)\n",
    "new_data['y_pred'] = np.argmax(y_pred, axis=1)\n",
    "new_data['correct'] = np.equal(new_data['y_true'], new_data['y_pred'])"
   ]
  },
  {
   "cell_type": "code",
   "execution_count": 72,
   "metadata": {},
   "outputs": [
    {
     "name": "stderr",
     "output_type": "stream",
     "text": [
      "/Users/joshsmith/Git/NovoNordisk_Capstone/.env/lib/python3.6/site-packages/numpy/core/fromnumeric.py:52: FutureWarning: reshape is deprecated and will raise in a subsequent release. Please use .values.reshape(...) instead\n",
      "  return getattr(obj, method)(*args, **kwds)\n"
     ]
    },
    {
     "data": {
      "image/png": "[encoded data removed]",
      "text/plain": [
       "<Figure size 864x576 with 1 Axes>"
      ]
     },
     "metadata": {},
     "output_type": "display_data"
    }
   ],
   "source": [
    "x1 = new_data.loc[new_data['correct'] == True, 'conc_cf'].values\n",
    "x2 = new_data.loc[new_data['correct'] == False, 'conc_cf'].values\n",
    "x3 = data.loc[np.isin(data.index, new_data.index, invert=True), 'conc_cf']\n",
    "\n",
    "#Stack the data\n",
    "low = data['conc_cf'].quantile(0.25)\n",
    "high = data['conc_cf'].quantile(0.75)\n",
    "pal = ['#59a14f', '#e15759', '#4e79a7']\n",
    "\n",
    "\n",
    "plt.figure(figsize=(12, 8))\n",
    "plt.hist([x1, x2, x3], 100, stacked=True, color=pal)\n",
    "plt.legend(['correct', 'incorrect', 'ommitted'])\n",
    "plt.axvline(low, color='k', linestyle='dashed', linewidth=3)\n",
    "plt.axvline(high, color='r', linestyle='dashed', linewidth=3)\n",
    "plt.show()"
   ]
  },
  {
   "cell_type": "markdown",
   "metadata": {},
   "source": [
    "# solubility multiclass"
   ]
  },
  {
   "cell_type": "code",
   "execution_count": 18,
   "metadata": {},
   "outputs": [],
   "source": [
    "# read in sequence/property data\n",
    "data = pd.read_csv('dataframes/DF_solubility.csv', index_col=0)"
   ]
  },
  {
   "cell_type": "code",
   "execution_count": 20,
   "metadata": {},
   "outputs": [
    {
     "name": "stdout",
     "output_type": "stream",
     "text": [
      "16082 samples input.\n",
      "3324 samples in class 0\n",
      "7667 samples in class 1\n",
      "5091 samples removed.\n",
      "_________________________________________________________________\n",
      "Layer (type)                 Output Shape              Param #   \n",
      "=================================================================\n",
      "embedding_6 (Embedding)      (None, 200, 4)            84        \n",
      "_________________________________________________________________\n",
      "conv1d_6 (Conv1D)            (None, 200, 128)          1664      \n",
      "_________________________________________________________________\n",
      "max_pooling1d_6 (MaxPooling1 (None, 100, 128)          0         \n",
      "_________________________________________________________________\n",
      "lstm_6 (LSTM)                (None, 100)               91600     \n",
      "_________________________________________________________________\n",
      "dense_6 (Dense)              (None, 1)                 101       \n",
      "=================================================================\n",
      "Total params: 93,449\n",
      "Trainable params: 93,449\n",
      "Non-trainable params: 0\n",
      "_________________________________________________________________\n",
      "None\n",
      "Epoch 1/1\n",
      "7693/7693 [==============================] - 13s 2ms/step - loss: 0.5822 - acc: 0.7047\n",
      "Accuracy: 76.86%\n"
     ]
    },
    {
     "data": {
      "image/png": "[encoded data removed]",
      "text/plain": [
       "<Figure size 432x288 with 1 Axes>"
      ]
     },
     "metadata": {},
     "output_type": "display_data"
    }
   ],
   "source": [
    "df, hist = value_classify(data['solubility_class_1M'], data['aa_seq'],\n",
    "                             [3.9, 4.1], drop_class=[1])\n",
    "X, y = encode_sequence(df['aa_seq'], df['class'],\n",
    "                       max_length=200)\n",
    "aa_model = train_clstm(X, y, test_fraction=0.3, epochs=1)"
   ]
  },
  {
   "cell_type": "code",
   "execution_count": 22,
   "metadata": {},
   "outputs": [
    {
     "name": "stdout",
     "output_type": "stream",
     "text": [
      "16082 samples input.\n",
      "838 samples in class 0\n",
      "1071 samples in class 1\n",
      "1394 samples in class 2\n",
      "5112 samples in class 3\n",
      "7667 samples in class 4\n",
      "0 samples removed.\n",
      "_________________________________________________________________\n",
      "Layer (type)                 Output Shape              Param #   \n",
      "=================================================================\n",
      "embedding_8 (Embedding)      (None, 200, 4)            84        \n",
      "_________________________________________________________________\n",
      "conv1d_8 (Conv1D)            (None, 200, 128)          1664      \n",
      "_________________________________________________________________\n",
      "max_pooling1d_8 (MaxPooling1 (None, 100, 128)          0         \n",
      "_________________________________________________________________\n",
      "lstm_8 (LSTM)                (None, 100)               91600     \n",
      "_________________________________________________________________\n",
      "dense_8 (Dense)              (None, 5)                 505       \n",
      "=================================================================\n",
      "Total params: 93,853\n",
      "Trainable params: 93,853\n",
      "Non-trainable params: 0\n",
      "_________________________________________________________________\n",
      "None\n",
      "Epoch 1/1\n",
      "11257/11257 [==============================] - 19s 2ms/step - loss: 1.2842 - acc: 0.4714\n",
      "Accuracy: 47.69%\n"
     ]
    },
    {
     "data": {
      "image/png": "[encoded data removed]",
      "text/plain": [
       "<Figure size 432x288 with 1 Axes>"
      ]
     },
     "metadata": {},
     "output_type": "display_data"
    }
   ],
   "source": [
    "df, hist = value_classify(data['solubility_class_1M'], data['aa_seq'],\n",
    "                             [1, 2, 3, 4])\n",
    "X, y = encode_sequence(df['aa_seq'], df['class'],\n",
    "                       max_length=200)\n",
    "aa_model = train_clstm(X, y, test_fraction=0.3, epochs=1)"
   ]
  },
  {
   "cell_type": "code",
   "execution_count": null,
   "metadata": {},
   "outputs": [],
   "source": []
  }
 ],
 "metadata": {
  "anaconda-cloud": {},
  "kernelspec": {
   "display_name": "Novo Capstone",
   "language": "python",
   "name": "novo"
  },
  "language_info": {
   "codemirror_mode": {
    "name": "ipython",
    "version": 3
   },
   "file_extension": ".py",
   "mimetype": "text/x-python",
   "name": "python",
   "nbconvert_exporter": "python",
   "pygments_lexer": "ipython3",
   "version": "3.6.4"
  }
 },
 "nbformat": 4,
 "nbformat_minor": 2
}
