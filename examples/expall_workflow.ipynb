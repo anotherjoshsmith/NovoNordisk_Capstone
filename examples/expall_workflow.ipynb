{
 "cells": [
  {
   "cell_type": "markdown",
   "metadata": {},
   "source": [
    "## Exp. All Demo\n",
    "this demo shows the use of our python package, Exp. All. Here, all module functionalities emphasizes the simplicity of our workflow and how easy it is for the user to predict protein expression from his/her dataset, from pre-processing to model training with our modified CNN-LSTM architecture. "
   ]
  },
  {
   "cell_type": "code",
   "execution_count": 1,
   "metadata": {},
   "outputs": [
    {
     "name": "stderr",
     "output_type": "stream",
     "text": [
      "/Users/joshsmith/Git/NovoNordisk_Capstone/.env/lib/python3.6/site-packages/h5py/__init__.py:36: FutureWarning: Conversion of the second argument of issubdtype from `float` to `np.floating` is deprecated. In future, it will be treated as `np.float64 == np.dtype(float).type`.\n",
      "  from ._conv import register_converters as _register_converters\n",
      "Using TensorFlow backend.\n"
     ]
    }
   ],
   "source": [
    "import numpy as np\n",
    "import pandas as pd\n",
    "import matplotlib.pyplot as plt\n",
    "%matplotlib inline\n",
    "\n",
    "from expall.data_processing import quantile_classify, encode_sequence, value_classify\n",
    "from expall.predict import train_model"
   ]
  },
  {
   "cell_type": "markdown",
   "metadata": {},
   "source": [
    "## Raw data import\n",
    "The basic raw data should be a colum of a measured experimental values to be used as a metric for classifciation (eg. expression or solubility) and a sequence (eg. amino acid or nucleotide).  The data will be imported as a pandas dataframe so more than the minimum 2 colums is acceptable.\n",
    "\n",
    "In the example below, there are 6 columns.  The 'conc_cf' (protein experssion level) will be used as the metric and 'nt_seq' will serve as the sequence. "
   ]
  },
  {
   "cell_type": "code",
   "execution_count": 2,
   "metadata": {},
   "outputs": [
    {
     "data": {
      "text/html": [
       "<div>\n",
       "<style scoped>\n",
       "    .dataframe tbody tr th:only-of-type {\n",
       "        vertical-align: middle;\n",
       "    }\n",
       "\n",
       "    .dataframe tbody tr th {\n",
       "        vertical-align: top;\n",
       "    }\n",
       "\n",
       "    .dataframe thead th {\n",
       "        text-align: right;\n",
       "    }\n",
       "</style>\n",
       "<table border=\"1\" class=\"dataframe\">\n",
       "  <thead>\n",
       "    <tr style=\"text-align: right;\">\n",
       "      <th></th>\n",
       "      <th>prest_id</th>\n",
       "      <th>uniprot_id</th>\n",
       "      <th>conc_cf</th>\n",
       "      <th>aa_seq</th>\n",
       "      <th>nt_seq</th>\n",
       "      <th>aa_len</th>\n",
       "    </tr>\n",
       "  </thead>\n",
       "  <tbody>\n",
       "    <tr>\n",
       "      <th>0</th>\n",
       "      <td>140095</td>\n",
       "      <td>G3V3N0</td>\n",
       "      <td>4.3075</td>\n",
       "      <td>IMTAPSSFEQFKVAMNYLQLYNVPDCLEDIQDADCSSSKCSSSASS...</td>\n",
       "      <td>GACAAGCTTGCGGCCGCAATTATGACAGCTCCCTCCAGTTTTGAGC...</td>\n",
       "      <td>139</td>\n",
       "    </tr>\n",
       "    <tr>\n",
       "      <th>1</th>\n",
       "      <td>140099</td>\n",
       "      <td>G3V537</td>\n",
       "      <td>2.9154</td>\n",
       "      <td>TYYAWKHELLGSGTCPALPPREVLGMEELEKLPEEQVAEEELECSA...</td>\n",
       "      <td>GACAAGCTTGCGGCCGCAACCTACTATGCCTGGAAGCATGAGCTGC...</td>\n",
       "      <td>144</td>\n",
       "    </tr>\n",
       "    <tr>\n",
       "      <th>2</th>\n",
       "      <td>140225</td>\n",
       "      <td>P12724</td>\n",
       "      <td>1.4877</td>\n",
       "      <td>SLHARPPQFTRAQWFAIQHISLNPPRCTIAMRAINNYRWRCKNQNT...</td>\n",
       "      <td>GACAAGCTTGCGGCCGCATCACTCCATGCCAGACCCCCACAGTTTA...</td>\n",
       "      <td>136</td>\n",
       "    </tr>\n",
       "    <tr>\n",
       "      <th>3</th>\n",
       "      <td>140235</td>\n",
       "      <td>H0YH02</td>\n",
       "      <td>6.7224</td>\n",
       "      <td>ARALNESKRVNNGNTAPEDSSPAKKTRRCQRQESKKMPVAGGKANK...</td>\n",
       "      <td>GACAAGCTTGCGGCCGCAGCGAGAGCATTAAATGAAAGCAAAAGAG...</td>\n",
       "      <td>123</td>\n",
       "    </tr>\n",
       "    <tr>\n",
       "      <th>4</th>\n",
       "      <td>140309</td>\n",
       "      <td>F5GYC5</td>\n",
       "      <td>3.3848</td>\n",
       "      <td>HRKEPGARLEATRGAARPHKQGTKPMITRPSVSQLGEGKCPSSQHL...</td>\n",
       "      <td>GACAAGCTTGCGGCCGCACATCGGAAAGAGCCTGGGGCAAGGCTGG...</td>\n",
       "      <td>124</td>\n",
       "    </tr>\n",
       "  </tbody>\n",
       "</table>\n",
       "</div>"
      ],
      "text/plain": [
       "   prest_id uniprot_id  conc_cf  \\\n",
       "0    140095     G3V3N0   4.3075   \n",
       "1    140099     G3V537   2.9154   \n",
       "2    140225     P12724   1.4877   \n",
       "3    140235     H0YH02   6.7224   \n",
       "4    140309     F5GYC5   3.3848   \n",
       "\n",
       "                                              aa_seq  \\\n",
       "0  IMTAPSSFEQFKVAMNYLQLYNVPDCLEDIQDADCSSSKCSSSASS...   \n",
       "1  TYYAWKHELLGSGTCPALPPREVLGMEELEKLPEEQVAEEELECSA...   \n",
       "2  SLHARPPQFTRAQWFAIQHISLNPPRCTIAMRAINNYRWRCKNQNT...   \n",
       "3  ARALNESKRVNNGNTAPEDSSPAKKTRRCQRQESKKMPVAGGKANK...   \n",
       "4  HRKEPGARLEATRGAARPHKQGTKPMITRPSVSQLGEGKCPSSQHL...   \n",
       "\n",
       "                                              nt_seq  aa_len  \n",
       "0  GACAAGCTTGCGGCCGCAATTATGACAGCTCCCTCCAGTTTTGAGC...     139  \n",
       "1  GACAAGCTTGCGGCCGCAACCTACTATGCCTGGAAGCATGAGCTGC...     144  \n",
       "2  GACAAGCTTGCGGCCGCATCACTCCATGCCAGACCCCCACAGTTTA...     136  \n",
       "3  GACAAGCTTGCGGCCGCAGCGAGAGCATTAAATGAAAGCAAAAGAG...     123  \n",
       "4  GACAAGCTTGCGGCCGCACATCGGAAAGAGCCTGGGGCAAGGCTGG...     124  "
      ]
     },
     "execution_count": 2,
     "metadata": {},
     "output_type": "execute_result"
    }
   ],
   "source": [
    "from io import StringIO\n",
    "import urllib.request as request\n",
    "\n",
    "exp_string = request.urlopen(\n",
    "    'https://raw.githubusercontent.com/SBRG/Protein_ML/master/dataframes/DF_prest.csv'\n",
    ").read().decode('utf8') #.split(\"\\n\")\n",
    "exp_csv = StringIO(exp_string)\n",
    "\n",
    "# read in sequence/property data\n",
    "data = pd.read_csv(exp_csv, index_col=0)\n",
    "data.head()"
   ]
  },
  {
   "cell_type": "markdown",
   "metadata": {},
   "source": [
    "## Data processing\n",
    "Data that are labeled with an emperimental value as a metric are classified.  There are two functions available for classicication. `quntile_classify` calssifies based on the first and forth quantiles or user defined quntiles and `value_classify` classifies based on user input values for high and low values.\n",
    "\n",
    "### `quantile_classify`\n",
    "Classify low values as 0, remove middle values, and classify high values as 1.  The default is to calssify the lowest 25% of values as 0, remove the middle 50% and label the to 25% as 1."
   ]
  },
  {
   "cell_type": "code",
   "execution_count": 3,
   "metadata": {},
   "outputs": [
    {
     "name": "stdout",
     "output_type": "stream",
     "text": [
      "45206 samples input.\n",
      "11302 samples in class 0\n",
      "11301 samples in class 1\n",
      "22603 samples removed.\n"
     ]
    },
    {
     "data": {
      "image/png": "[encoded data removed]",
      "text/plain": [
       "<Figure size 432x288 with 1 Axes>"
      ]
     },
     "metadata": {},
     "output_type": "display_data"
    }
   ],
   "source": [
    "# split quantiles and encode with nucleotide sequence\n",
    "df, hist = quantile_classify(data['conc_cf'], data['nt_seq'],\n",
    "                             [0.25, 0.75], drop_class=[1])"
   ]
  },
  {
   "cell_type": "markdown",
   "metadata": {},
   "source": [
    "## `value_classify`\n",
    "\n",
    "Classify values below low_value as 0, classify values above high_value as 1 and remove values in between.\n"
   ]
  },
  {
   "cell_type": "code",
   "execution_count": 4,
   "metadata": {},
   "outputs": [
    {
     "name": "stdout",
     "output_type": "stream",
     "text": [
      "45206 samples input.\n",
      "10289 samples in class 0\n",
      "32530 samples in class 1\n",
      "2387 samples in class 2\n",
      "0 samples removed.\n"
     ]
    },
    {
     "data": {
      "image/png": "[encoded data removed]",
      "text/plain": [
       "<Figure size 432x288 with 1 Axes>"
      ]
     },
     "metadata": {},
     "output_type": "display_data"
    }
   ],
   "source": [
    "# We can do the same with amino acid sequences\n",
    "val_df, val_hist = ndac.value_classify(data['conc_cf'], \n",
    "                                       data['aa_seq'], \n",
    "                                       split_values = [3.0, 10.0])"
   ]
  },
  {
   "cell_type": "markdown",
   "metadata": {},
   "source": [
    "## `encode_sequence`\n",
    "\n",
    "This function converts raw nucleotide or amino acid sequences into a vectorized representation, where each codon has a value between 0 and 64 and each amino acid residue has some value between 0 and 20 "
   ]
  },
  {
   "cell_type": "code",
   "execution_count": 5,
   "metadata": {},
   "outputs": [
    {
     "data": {
      "text/plain": [
       "array([ 0,  0,  0,  0,  0,  0,  0,  0,  0,  0,  0,  0,  0,  0,  0,  0,  0,\n",
       "        0,  0,  0,  0,  0,  0,  0,  0,  0,  0,  0,  0,  0,  0,  0,  0,  0,\n",
       "        0,  0,  0,  0,  0,  0,  0,  0,  0,  0,  0,  0,  0,  0,  0, 20, 33,\n",
       "       44, 11, 46,  6, 50,  1,  2,  2,  4, 29,  4, 20, 49, 59, 11, 43,  5,\n",
       "        5, 48,  1,  9,  2,  4, 16,  1,  1, 58,  1,  6,  2, 59,  1,  1,  3,\n",
       "        9, 26,  1,  1,  1,  2,  1, 49, 22, 31,  2, 18,  9, 40, 15, 25, 30,\n",
       "       16, 36, 55, 16,  3, 52, 11,  6, 43, 33,  2,  1, 50, 49, 21, 22,  2,\n",
       "       17, 32,  2, 57,  5, 44, 14, 49, 19, 12, 14, 48, 19, 25,  4, 21, 40,\n",
       "       52, 22, 38, 44, 44, 23, 46, 52, 60,  6, 11, 24, 52, 48, 17,  5, 15,\n",
       "       19,  6, 59, 31, 27, 11, 24, 29, 26, 26, 35, 38,  5,  3, 58, 31, 29,\n",
       "       51, 35,  7, 35, 26, 57, 34, 25, 46,  6, 39,  1, 18,  7,  1, 35, 31,\n",
       "       35, 23, 11, 32, 53,  1, 41,  4, 18,  5,  8, 14, 42], dtype=int32)"
      ]
     },
     "execution_count": 5,
     "metadata": {},
     "output_type": "execute_result"
    }
   ],
   "source": [
    "X, y = encode_sequence(df['nt_seq'], df['class'],\n",
    "                       max_length=200, tag='GACAAGCTTGCGGCCGCA')\n",
    "X[0]"
   ]
  },
  {
   "cell_type": "markdown",
   "metadata": {},
   "source": [
    "## Model training\n",
    "\n",
    "## `train_model`\n",
    "\n",
    "This function takes the post-processed data, train the optimized model and outputs a saved model. "
   ]
  },
  {
   "cell_type": "code",
   "execution_count": 6,
   "metadata": {},
   "outputs": [
    {
     "name": "stdout",
     "output_type": "stream",
     "text": [
      "WARNING:tensorflow:From /Users/joshsmith/Git/NovoNordisk_Capstone/.env/lib/python3.6/site-packages/tensorflow/python/util/deprecation.py:497: calling conv1d (from tensorflow.python.ops.nn_ops) with data_format=NHWC is deprecated and will be removed in a future version.\n",
      "Instructions for updating:\n",
      "`NHWC` for data_format is deprecated, use `NWC` instead\n",
      "_________________________________________________________________\n",
      "Layer (type)                 Output Shape              Param #   \n",
      "=================================================================\n",
      "embedding_1 (Embedding)      (None, 200, 10)           740       \n",
      "_________________________________________________________________\n",
      "conv1d_1 (Conv1D)            (None, 200, 128)          3968      \n",
      "_________________________________________________________________\n",
      "max_pooling1d_1 (MaxPooling1 (None, 100, 128)          0         \n",
      "_________________________________________________________________\n",
      "lstm_1 (LSTM)                (None, 100)               91600     \n",
      "_________________________________________________________________\n",
      "dense_1 (Dense)              (None, 1)                 101       \n",
      "=================================================================\n",
      "Total params: 96,409\n",
      "Trainable params: 96,409\n",
      "Non-trainable params: 0\n",
      "_________________________________________________________________\n",
      "None\n",
      "Train on 15677 samples, validate on 6719 samples\n",
      "Epoch 1/1\n",
      "15677/15677 [==============================] - 31s 2ms/step - loss: 0.6792 - acc: 0.5599 - val_loss: 0.6448 - val_acc: 0.6316\n",
      "Accuracy: 63.16%\n"
     ]
    }
   ],
   "source": [
    "# default embedding layer length of 10\n",
    "nt_model = train_model(X, y, test_fraction=0.3, epochs=1)"
   ]
  },
  {
   "cell_type": "code",
   "execution_count": 7,
   "metadata": {},
   "outputs": [
    {
     "name": "stdout",
     "output_type": "stream",
     "text": [
      "_________________________________________________________________\n",
      "Layer (type)                 Output Shape              Param #   \n",
      "=================================================================\n",
      "conv1d_3 (Conv1D)            (None, 200, 128)          28544     \n",
      "_________________________________________________________________\n",
      "max_pooling1d_2 (MaxPooling1 (None, 100, 128)          0         \n",
      "_________________________________________________________________\n",
      "lstm_2 (LSTM)                (None, 100)               91600     \n",
      "_________________________________________________________________\n",
      "dense_2 (Dense)              (None, 1)                 101       \n",
      "=================================================================\n",
      "Total params: 120,245\n",
      "Trainable params: 120,245\n",
      "Non-trainable params: 0\n",
      "_________________________________________________________________\n",
      "None\n",
      "Train on 15677 samples, validate on 6719 samples\n",
      "Epoch 1/1\n",
      "15677/15677 [==============================] - 36s 2ms/step - loss: 0.6838 - acc: 0.5455 - val_loss: 0.6445 - val_acc: 0.6371\n",
      "Accuracy: 63.71%\n"
     ]
    }
   ],
   "source": [
    "# set embedding length falsy to skip embedding in favor of 1 hot\n",
    "one_hot_clstm = train_model(X, y, test_fraction=0.3, \n",
    "                            epochs=1, embedding_length=None)"
   ]
  },
  {
   "cell_type": "code",
   "execution_count": 8,
   "metadata": {},
   "outputs": [
    {
     "name": "stdout",
     "output_type": "stream",
     "text": [
      "_________________________________________________________________\n",
      "Layer (type)                 Output Shape              Param #   \n",
      "=================================================================\n",
      "lstm_4 (LSTM)                (None, 100)               70000     \n",
      "_________________________________________________________________\n",
      "dense_3 (Dense)              (None, 1)                 101       \n",
      "=================================================================\n",
      "Total params: 70,101\n",
      "Trainable params: 70,101\n",
      "Non-trainable params: 0\n",
      "_________________________________________________________________\n",
      "None\n",
      "Train on 15677 samples, validate on 6719 samples\n",
      "Epoch 1/1\n",
      "15677/15677 [==============================] - 39s 3ms/step - loss: 0.6918 - acc: 0.5203 - val_loss: 0.6902 - val_acc: 0.5062\n",
      "Accuracy: 50.62%\n",
      "_________________________________________________________________\n",
      "Layer (type)                 Output Shape              Param #   \n",
      "=================================================================\n",
      "conv1d_5 (Conv1D)            (None, 200, 128)          28544     \n",
      "_________________________________________________________________\n",
      "max_pooling1d_3 (MaxPooling1 (None, 100, 128)          0         \n",
      "_________________________________________________________________\n",
      "flatten_1 (Flatten)          (None, 12800)             0         \n",
      "_________________________________________________________________\n",
      "dense_4 (Dense)              (None, 100)               1280100   \n",
      "_________________________________________________________________\n",
      "dropout_1 (Dropout)          (None, 100)               0         \n",
      "_________________________________________________________________\n",
      "dense_5 (Dense)              (None, 1)                 101       \n",
      "=================================================================\n",
      "Total params: 1,308,745\n",
      "Trainable params: 1,308,745\n",
      "Non-trainable params: 0\n",
      "_________________________________________________________________\n",
      "None\n",
      "Train on 15677 samples, validate on 6719 samples\n",
      "Epoch 1/1\n",
      "15677/15677 [==============================] - 15s 983us/step - loss: 0.7616 - acc: 0.5665 - val_loss: 0.6505 - val_acc: 0.6127\n",
      "Accuracy: 61.27%\n"
     ]
    }
   ],
   "source": [
    "# change architecture flag for LSTM or CNN alone\n",
    "lstm = train_model(X, y, test_fraction=0.3, architecture='lstm', \n",
    "                   epochs=1, embedding_length=None)\n",
    "cnn = train_model(X, y, test_fraction=0.3, architecture='cnn', \n",
    "                  epochs=1, embedding_length=None)"
   ]
  },
  {
   "cell_type": "markdown",
   "metadata": {},
   "source": [
    "# Want to capture our entire worflow??\n",
    "\n",
    "here ya go:"
   ]
  },
  {
   "cell_type": "code",
   "execution_count": null,
   "metadata": {},
   "outputs": [],
   "source": [
    "from io import StringIO\n",
    "import urllib.request as request\n",
    "\n",
    "exp_string = request.urlopen(\n",
    "    'https://raw.githubusercontent.com/SBRG/Protein_ML/master/dataframes/DF_prest.csv'\n",
    ").read().decode('utf8') #.split(\"\\n\")\n",
    "exp_csv = StringIO(exp_string)\n",
    "\n",
    "# read in sequence/property data\n",
    "data = pd.read_csv(exp_csv, index_col=0)\n",
    "data.head()"
   ]
  },
  {
   "cell_type": "code",
   "execution_count": null,
   "metadata": {},
   "outputs": [],
   "source": [
    "df, hist = quantile_classify(data['conc_cf'], data['nt_seq'], [0.25, 0.75], drop_class=[1])\n",
    "X, y = encode_sequence(df['nt_seq'], df['class'], max_length=200)\n",
    "nt_model = train_clstm(X, y, test_fraction=0.3, epochs=1, save_file='nt_model.h5')"
   ]
  },
  {
   "cell_type": "code",
   "execution_count": 3,
   "metadata": {},
   "outputs": [
    {
     "name": "stdout",
     "output_type": "stream",
     "text": [
      "10216 samples input.\n",
      "2566 samples in class 0\n",
      "2546 samples in class 1\n",
      "5104 samples removed.\n"
     ]
    },
    {
     "data": {
      "image/png": "[encoded data removed]",
      "text/plain": [
       "<Figure size 432x288 with 1 Axes>"
      ]
     },
     "metadata": {},
     "output_type": "display_data"
    }
   ],
   "source": [
    "# using Sastry et al. split for retrospective analysis\n",
    "df, hist = quantile_classify(data['conc_cf'], data['aa_seq'], [0.25, 0.75], drop_class=[1])\n",
    "X, y = encode_sequence(data['aa_seq'], data['expressed'], max_length=200)\n",
    "aa_model = train_clstm(X, y, epochs=35, save_file='aa_model.h5')"
   ]
  },
  {
   "cell_type": "code",
   "execution_count": null,
   "metadata": {},
   "outputs": [],
   "source": []
  }
 ],
 "metadata": {
  "anaconda-cloud": {},
  "kernelspec": {
   "display_name": "Novo Capstone",
   "language": "python",
   "name": "novo"
  },
  "language_info": {
   "codemirror_mode": {
    "name": "ipython",
    "version": 3
   },
   "file_extension": ".py",
   "mimetype": "text/x-python",
   "name": "python",
   "nbconvert_exporter": "python",
   "pygments_lexer": "ipython3",
   "version": "3.6.4"
  }
 },
 "nbformat": 4,
 "nbformat_minor": 2
}
